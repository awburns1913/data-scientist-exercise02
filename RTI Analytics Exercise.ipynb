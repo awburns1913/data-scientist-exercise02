{
 "cells": [
  {
   "cell_type": "code",
   "execution_count": 10,
   "metadata": {},
   "outputs": [],
   "source": [
    "#importing needed packages to parse json, read xml file\n",
    "import json\n",
    "import pandas as pd\n",
    "import numpy as np\n",
    "import os\n",
    "import matplotlib.pyplot as plt\n",
    "import xml.etree.ElementTree as ET"
   ]
  },
  {
   "cell_type": "code",
   "execution_count": 11,
   "metadata": {},
   "outputs": [],
   "source": [
    "#creating a filepath for a test json\n",
    "f = open('/Users/awburns2/Documents/Github/data-scientist-exercise02/data/NarrativeData_28999.json')"
   ]
  },
  {
   "cell_type": "code",
   "execution_count": 12,
   "metadata": {},
   "outputs": [],
   "source": [
    "#loading the json file into an object\n",
    "data = json.load(f)"
   ]
  },
  {
   "cell_type": "code",
   "execution_count": 107,
   "metadata": {},
   "outputs": [],
   "source": [
    "#printing the file to understand the general structure\n",
    "#each section contains EventId, narrative, and probable_cause\n",
    "#for i in data['data']:\n",
    "#    print(i)"
   ]
  },
  {
   "cell_type": "code",
   "execution_count": 14,
   "metadata": {},
   "outputs": [
    {
     "data": {
      "text/plain": [
       "500"
      ]
     },
     "execution_count": 14,
     "metadata": {},
     "output_type": "execute_result"
    }
   ],
   "source": [
    "#checking the length of the file to confirm the notation for each json file\n",
    "#most json files contain 500 report entries\n",
    "#len(data['data'])"
   ]
  },
  {
   "cell_type": "code",
   "execution_count": 16,
   "metadata": {},
   "outputs": [],
   "source": [
    "#This begins the code to read the xml file\n",
    "#creating basic objects for parsing\n",
    "tree = ET.parse('/Users/awburns2/Documents/Github/data-scientist-exercise02/data/AviationData.xml')\n",
    "root = tree.getroot()"
   ]
  },
  {
   "cell_type": "code",
   "execution_count": 17,
   "metadata": {},
   "outputs": [
    {
     "data": {
      "text/plain": [
       "'{http://www.ntsb.gov}DATA'"
      ]
     },
     "execution_count": 17,
     "metadata": {},
     "output_type": "execute_result"
    }
   ],
   "source": [
    "#checking the root tag\n",
    "root.tag"
   ]
  },
  {
   "cell_type": "code",
   "execution_count": 18,
   "metadata": {},
   "outputs": [
    {
     "data": {
      "text/plain": [
       "{}"
      ]
     },
     "execution_count": 18,
     "metadata": {},
     "output_type": "execute_result"
    }
   ],
   "source": [
    "#checking if root has any attributes\n",
    "root.attrib"
   ]
  },
  {
   "cell_type": "code",
   "execution_count": 19,
   "metadata": {},
   "outputs": [
    {
     "name": "stdout",
     "output_type": "stream",
     "text": [
      "{http://www.ntsb.gov}ROWS {}\n"
     ]
    }
   ],
   "source": [
    "#checking child notation\n",
    "for child in root:\n",
    "    print(child.tag, child.attrib)"
   ]
  },
  {
   "cell_type": "code",
   "execution_count": 108,
   "metadata": {},
   "outputs": [],
   "source": [
    "#finding the element tags and structure of the xml file\n",
    "#root is DATA, followed by ROWS and then ROW\n",
    "#most of the information is stored within ROW\n",
    "#[elem.tag for elem in root.iter()]\n"
   ]
  },
  {
   "cell_type": "code",
   "execution_count": 109,
   "metadata": {},
   "outputs": [],
   "source": [
    "#confirmed event information is stored within ROW\n",
    "#observing structure and noticing important information is element wise\n",
    "#for row in root.iter('{http://www.ntsb.gov}ROW'):\n",
    "#    print(row.attrib)"
   ]
  },
  {
   "cell_type": "code",
   "execution_count": 156,
   "metadata": {},
   "outputs": [
    {
     "name": "stdout",
     "output_type": "stream",
     "text": [
      "{'EventId': '20070804X01107', 'InvestigationType': 'Accident', 'AccidentNumber': 'LAX07TA227', 'EventDate': '07/23/2007', 'Location': 'Happy Camp, CA', 'Country': 'United States', 'Latitude': '41.640555', 'Longitude': '-123.276945', 'AirportCode': '', 'AirportName': '', 'InjurySeverity': 'Fatal(1)', 'AircraftDamage': 'Destroyed', 'AircraftCategory': '', 'RegistrationNumber': 'N205BR', 'Make': 'Bell', 'Model': '205 A1++', 'AmateurBuilt': 'No', 'NumberOfEngines': '2', 'EngineType': 'Turbo Shaft', 'FARDescription': '', 'Schedule': '', 'PurposeOfFlight': 'Public Aircraft - Federal', 'AirCarrier': '', 'TotalFatalInjuries': '1', 'TotalSeriousInjuries': '', 'TotalMinorInjuries': '', 'TotalUninjured': '', 'WeatherCondition': 'VMC', 'BroadPhaseOfFlight': 'MANEUVERING', 'ReportStatus': 'Probable Cause', 'PublicationDate': '07/30/2008'}\n"
     ]
    }
   ],
   "source": [
    "#confirming methodology that information can be found using @ methodology for future analysis\n",
    "for accident in root.findall(\"./{http://www.ntsb.gov}ROWS/{http://www.ntsb.gov}ROW[@EventId='20070804X01107']\"):\n",
    "    print(accident.attrib)"
   ]
  },
  {
   "cell_type": "code",
   "execution_count": 24,
   "metadata": {},
   "outputs": [],
   "source": [
    "#writing code to create df structure for analysis of xml file\n",
    "\n",
    "eventid = []\n",
    "eventdate = []\n",
    "injuryseverity = []\n",
    "aircraftdamage = []\n",
    "totalfatal = []\n",
    "totalserious = []\n",
    "totalminor = []\n",
    "totaluninjured = []\n",
    "\n",
    "\n",
    "\n",
    "for tag in root.findall(\"./{http://www.ntsb.gov}ROWS/{http://www.ntsb.gov}ROW\"):\n",
    "    e_tag = tag.get('EventId') \n",
    "    ed_tag = tag.get('EventDate')\n",
    "    is_tag = tag.get('InjurySeverity')\n",
    "    ad_tag = tag.get('AircraftDamage')\n",
    "    tfi_tag = tag.get('TotalFatalInjuries')\n",
    "    tsi_tag = tag.get('TotalSeriousInjuries')\n",
    "    tmi_tag = tag.get('TotalMinorInjuries')\n",
    "    tui_tag = tag.get('TotalUninjured')\n",
    "    \n",
    "    eventid.append(e_tag)\n",
    "    eventdate.append(ed_tag)\n",
    "    injuryseverity.append(is_tag)\n",
    "    aircraftdamage.append(ad_tag)\n",
    "    totalfatal.append(tfi_tag)\n",
    "    totalserious.append(tsi_tag)\n",
    "    totalminor.append(tmi_tag)\n",
    "    totaluninjured.append(tui_tag)"
   ]
  },
  {
   "cell_type": "code",
   "execution_count": 25,
   "metadata": {},
   "outputs": [],
   "source": [
    "#creating df\n",
    "df_xml = pd.DataFrame({'EventId':eventid, \n",
    "                      'EventDate':eventdate,\n",
    "                      'Inj_Sev':injuryseverity,\n",
    "                      'AC_Dam':aircraftdamage,\n",
    "                      'Total_Fatal':totalfatal,\n",
    "                      'Total_Serious':totalserious,\n",
    "                      'Total_Minor':totalminor,\n",
    "                      'Total_Uninjured':totaluninjured})"
   ]
  },
  {
   "cell_type": "code",
   "execution_count": 157,
   "metadata": {},
   "outputs": [
    {
     "data": {
      "text/html": [
       "<div>\n",
       "<style scoped>\n",
       "    .dataframe tbody tr th:only-of-type {\n",
       "        vertical-align: middle;\n",
       "    }\n",
       "\n",
       "    .dataframe tbody tr th {\n",
       "        vertical-align: top;\n",
       "    }\n",
       "\n",
       "    .dataframe thead th {\n",
       "        text-align: right;\n",
       "    }\n",
       "</style>\n",
       "<table border=\"1\" class=\"dataframe\">\n",
       "  <thead>\n",
       "    <tr style=\"text-align: right;\">\n",
       "      <th></th>\n",
       "      <th>EventId</th>\n",
       "      <th>EventDate</th>\n",
       "      <th>Inj_Sev</th>\n",
       "      <th>AC_Dam</th>\n",
       "      <th>Total_Fatal</th>\n",
       "      <th>Total_Serious</th>\n",
       "      <th>Total_Minor</th>\n",
       "      <th>Total_Uninjured</th>\n",
       "    </tr>\n",
       "  </thead>\n",
       "  <tbody>\n",
       "    <tr>\n",
       "      <th>0</th>\n",
       "      <td>20150901X74304</td>\n",
       "      <td>09/01/2015</td>\n",
       "      <td></td>\n",
       "      <td></td>\n",
       "      <td>NaN</td>\n",
       "      <td>NaN</td>\n",
       "      <td>NaN</td>\n",
       "      <td>NaN</td>\n",
       "    </tr>\n",
       "    <tr>\n",
       "      <th>1</th>\n",
       "      <td>20150901X92332</td>\n",
       "      <td>08/31/2015</td>\n",
       "      <td>Non-Fatal</td>\n",
       "      <td>Substantial</td>\n",
       "      <td>NaN</td>\n",
       "      <td>NaN</td>\n",
       "      <td>NaN</td>\n",
       "      <td>2.0</td>\n",
       "    </tr>\n",
       "    <tr>\n",
       "      <th>2</th>\n",
       "      <td>20150902X61853</td>\n",
       "      <td>08/30/2015</td>\n",
       "      <td></td>\n",
       "      <td></td>\n",
       "      <td>NaN</td>\n",
       "      <td>NaN</td>\n",
       "      <td>NaN</td>\n",
       "      <td>NaN</td>\n",
       "    </tr>\n",
       "    <tr>\n",
       "      <th>3</th>\n",
       "      <td>20150901X02521</td>\n",
       "      <td>08/30/2015</td>\n",
       "      <td></td>\n",
       "      <td></td>\n",
       "      <td>NaN</td>\n",
       "      <td>NaN</td>\n",
       "      <td>NaN</td>\n",
       "      <td>NaN</td>\n",
       "    </tr>\n",
       "    <tr>\n",
       "      <th>4</th>\n",
       "      <td>20150831X61356</td>\n",
       "      <td>08/29/2015</td>\n",
       "      <td></td>\n",
       "      <td></td>\n",
       "      <td>NaN</td>\n",
       "      <td>NaN</td>\n",
       "      <td>NaN</td>\n",
       "      <td>NaN</td>\n",
       "    </tr>\n",
       "    <tr>\n",
       "      <th>5</th>\n",
       "      <td>20150831X30510</td>\n",
       "      <td>08/28/2015</td>\n",
       "      <td>Non-Fatal</td>\n",
       "      <td>Minor</td>\n",
       "      <td>NaN</td>\n",
       "      <td>NaN</td>\n",
       "      <td>NaN</td>\n",
       "      <td>5.0</td>\n",
       "    </tr>\n",
       "    <tr>\n",
       "      <th>6</th>\n",
       "      <td>20150831X30510</td>\n",
       "      <td>08/28/2015</td>\n",
       "      <td>Non-Fatal</td>\n",
       "      <td>Substantial</td>\n",
       "      <td>NaN</td>\n",
       "      <td>NaN</td>\n",
       "      <td>NaN</td>\n",
       "      <td>5.0</td>\n",
       "    </tr>\n",
       "    <tr>\n",
       "      <th>7</th>\n",
       "      <td>20150828X82523</td>\n",
       "      <td>08/28/2015</td>\n",
       "      <td>Non-Fatal</td>\n",
       "      <td>Substantial</td>\n",
       "      <td>NaN</td>\n",
       "      <td>3.0</td>\n",
       "      <td>3.0</td>\n",
       "      <td>NaN</td>\n",
       "    </tr>\n",
       "    <tr>\n",
       "      <th>8</th>\n",
       "      <td>20150827X11718</td>\n",
       "      <td>08/27/2015</td>\n",
       "      <td>Non-Fatal</td>\n",
       "      <td>Substantial</td>\n",
       "      <td>NaN</td>\n",
       "      <td>NaN</td>\n",
       "      <td>NaN</td>\n",
       "      <td>1.0</td>\n",
       "    </tr>\n",
       "    <tr>\n",
       "      <th>9</th>\n",
       "      <td>20150828X45040</td>\n",
       "      <td>08/27/2015</td>\n",
       "      <td>Incident</td>\n",
       "      <td>Minor</td>\n",
       "      <td>NaN</td>\n",
       "      <td>NaN</td>\n",
       "      <td>NaN</td>\n",
       "      <td>3.0</td>\n",
       "    </tr>\n",
       "  </tbody>\n",
       "</table>\n",
       "</div>"
      ],
      "text/plain": [
       "          EventId   EventDate    Inj_Sev       AC_Dam  Total_Fatal  \\\n",
       "0  20150901X74304  09/01/2015                                  NaN   \n",
       "1  20150901X92332  08/31/2015  Non-Fatal  Substantial          NaN   \n",
       "2  20150902X61853  08/30/2015                                  NaN   \n",
       "3  20150901X02521  08/30/2015                                  NaN   \n",
       "4  20150831X61356  08/29/2015                                  NaN   \n",
       "5  20150831X30510  08/28/2015  Non-Fatal        Minor          NaN   \n",
       "6  20150831X30510  08/28/2015  Non-Fatal  Substantial          NaN   \n",
       "7  20150828X82523  08/28/2015  Non-Fatal  Substantial          NaN   \n",
       "8  20150827X11718  08/27/2015  Non-Fatal  Substantial          NaN   \n",
       "9  20150828X45040  08/27/2015   Incident        Minor          NaN   \n",
       "\n",
       "   Total_Serious  Total_Minor  Total_Uninjured  \n",
       "0            NaN          NaN              NaN  \n",
       "1            NaN          NaN              2.0  \n",
       "2            NaN          NaN              NaN  \n",
       "3            NaN          NaN              NaN  \n",
       "4            NaN          NaN              NaN  \n",
       "5            NaN          NaN              5.0  \n",
       "6            NaN          NaN              5.0  \n",
       "7            3.0          3.0              NaN  \n",
       "8            NaN          NaN              1.0  \n",
       "9            NaN          NaN              3.0  "
      ]
     },
     "execution_count": 157,
     "metadata": {},
     "output_type": "execute_result"
    }
   ],
   "source": [
    "#checking structure of newly created df for xml\n",
    "df_xml.head(10)"
   ]
  },
  {
   "cell_type": "code",
   "execution_count": 161,
   "metadata": {},
   "outputs": [
    {
     "data": {
      "text/html": [
       "<div>\n",
       "<style scoped>\n",
       "    .dataframe tbody tr th:only-of-type {\n",
       "        vertical-align: middle;\n",
       "    }\n",
       "\n",
       "    .dataframe tbody tr th {\n",
       "        vertical-align: top;\n",
       "    }\n",
       "\n",
       "    .dataframe thead th {\n",
       "        text-align: right;\n",
       "    }\n",
       "</style>\n",
       "<table border=\"1\" class=\"dataframe\">\n",
       "  <thead>\n",
       "    <tr style=\"text-align: right;\">\n",
       "      <th></th>\n",
       "      <th>EventId</th>\n",
       "      <th>EventDate</th>\n",
       "      <th>AC_Dam</th>\n",
       "      <th>Total_Fatal</th>\n",
       "      <th>Total_Serious</th>\n",
       "      <th>Total_Minor</th>\n",
       "      <th>Total_Uninjured</th>\n",
       "    </tr>\n",
       "    <tr>\n",
       "      <th>Inj_Sev</th>\n",
       "      <th></th>\n",
       "      <th></th>\n",
       "      <th></th>\n",
       "      <th></th>\n",
       "      <th></th>\n",
       "      <th></th>\n",
       "      <th></th>\n",
       "    </tr>\n",
       "  </thead>\n",
       "  <tbody>\n",
       "    <tr>\n",
       "      <th></th>\n",
       "      <td>106</td>\n",
       "      <td>106</td>\n",
       "      <td>106</td>\n",
       "      <td>0</td>\n",
       "      <td>0</td>\n",
       "      <td>0</td>\n",
       "      <td>0</td>\n",
       "    </tr>\n",
       "    <tr>\n",
       "      <th>Fatal(1)</th>\n",
       "      <td>7598</td>\n",
       "      <td>7598</td>\n",
       "      <td>7598</td>\n",
       "      <td>7598</td>\n",
       "      <td>5247</td>\n",
       "      <td>4922</td>\n",
       "      <td>4888</td>\n",
       "    </tr>\n",
       "    <tr>\n",
       "      <th>Fatal(10)</th>\n",
       "      <td>40</td>\n",
       "      <td>40</td>\n",
       "      <td>40</td>\n",
       "      <td>40</td>\n",
       "      <td>21</td>\n",
       "      <td>21</td>\n",
       "      <td>21</td>\n",
       "    </tr>\n",
       "    <tr>\n",
       "      <th>Fatal(102)</th>\n",
       "      <td>2</td>\n",
       "      <td>2</td>\n",
       "      <td>2</td>\n",
       "      <td>2</td>\n",
       "      <td>1</td>\n",
       "      <td>0</td>\n",
       "      <td>0</td>\n",
       "    </tr>\n",
       "    <tr>\n",
       "      <th>Fatal(103)</th>\n",
       "      <td>1</td>\n",
       "      <td>1</td>\n",
       "      <td>1</td>\n",
       "      <td>1</td>\n",
       "      <td>1</td>\n",
       "      <td>0</td>\n",
       "      <td>0</td>\n",
       "    </tr>\n",
       "    <tr>\n",
       "      <th>...</th>\n",
       "      <td>...</td>\n",
       "      <td>...</td>\n",
       "      <td>...</td>\n",
       "      <td>...</td>\n",
       "      <td>...</td>\n",
       "      <td>...</td>\n",
       "      <td>...</td>\n",
       "    </tr>\n",
       "    <tr>\n",
       "      <th>Fatal(96)</th>\n",
       "      <td>1</td>\n",
       "      <td>1</td>\n",
       "      <td>1</td>\n",
       "      <td>1</td>\n",
       "      <td>1</td>\n",
       "      <td>0</td>\n",
       "      <td>0</td>\n",
       "    </tr>\n",
       "    <tr>\n",
       "      <th>Fatal(97)</th>\n",
       "      <td>2</td>\n",
       "      <td>2</td>\n",
       "      <td>2</td>\n",
       "      <td>2</td>\n",
       "      <td>2</td>\n",
       "      <td>2</td>\n",
       "      <td>1</td>\n",
       "    </tr>\n",
       "    <tr>\n",
       "      <th>Incident</th>\n",
       "      <td>3050</td>\n",
       "      <td>3050</td>\n",
       "      <td>3050</td>\n",
       "      <td>1600</td>\n",
       "      <td>1598</td>\n",
       "      <td>1655</td>\n",
       "      <td>2659</td>\n",
       "    </tr>\n",
       "    <tr>\n",
       "      <th>Non-Fatal</th>\n",
       "      <td>58499</td>\n",
       "      <td>58499</td>\n",
       "      <td>58499</td>\n",
       "      <td>38769</td>\n",
       "      <td>41710</td>\n",
       "      <td>43209</td>\n",
       "      <td>53396</td>\n",
       "    </tr>\n",
       "    <tr>\n",
       "      <th>Unavailable</th>\n",
       "      <td>193</td>\n",
       "      <td>193</td>\n",
       "      <td>193</td>\n",
       "      <td>13</td>\n",
       "      <td>13</td>\n",
       "      <td>13</td>\n",
       "      <td>14</td>\n",
       "    </tr>\n",
       "  </tbody>\n",
       "</table>\n",
       "<p>120 rows × 7 columns</p>\n",
       "</div>"
      ],
      "text/plain": [
       "             EventId  EventDate  AC_Dam  Total_Fatal  Total_Serious  \\\n",
       "Inj_Sev                                                               \n",
       "                 106        106     106            0              0   \n",
       "Fatal(1)        7598       7598    7598         7598           5247   \n",
       "Fatal(10)         40         40      40           40             21   \n",
       "Fatal(102)         2          2       2            2              1   \n",
       "Fatal(103)         1          1       1            1              1   \n",
       "...              ...        ...     ...          ...            ...   \n",
       "Fatal(96)          1          1       1            1              1   \n",
       "Fatal(97)          2          2       2            2              2   \n",
       "Incident        3050       3050    3050         1600           1598   \n",
       "Non-Fatal      58499      58499   58499        38769          41710   \n",
       "Unavailable      193        193     193           13             13   \n",
       "\n",
       "             Total_Minor  Total_Uninjured  \n",
       "Inj_Sev                                    \n",
       "                       0                0  \n",
       "Fatal(1)            4922             4888  \n",
       "Fatal(10)             21               21  \n",
       "Fatal(102)             0                0  \n",
       "Fatal(103)             0                0  \n",
       "...                  ...              ...  \n",
       "Fatal(96)              0                0  \n",
       "Fatal(97)              2                1  \n",
       "Incident            1655             2659  \n",
       "Non-Fatal          43209            53396  \n",
       "Unavailable           13               14  \n",
       "\n",
       "[120 rows x 7 columns]"
      ]
     },
     "execution_count": 161,
     "metadata": {},
     "output_type": "execute_result"
    }
   ],
   "source": [
    "df_xml.groupby('Inj_Sev').count()"
   ]
  },
  {
   "cell_type": "code",
   "execution_count": 27,
   "metadata": {},
   "outputs": [],
   "source": [
    "#making numeric columns floats instead of characters\n",
    "df_xml['Total_Fatal'] = pd.to_numeric(df_xml['Total_Fatal'], errors='coerce').astype('float64')\n",
    "df_xml['Total_Serious'] = pd.to_numeric(df_xml['Total_Serious'], errors='coerce').astype('float64')\n",
    "df_xml['Total_Minor'] = pd.to_numeric(df_xml['Total_Minor'], errors='coerce').astype('float64')\n",
    "df_xml['Total_Uninjured'] = pd.to_numeric(df_xml['Total_Uninjured'], errors='coerce').astype('float64')"
   ]
  },
  {
   "cell_type": "code",
   "execution_count": 155,
   "metadata": {},
   "outputs": [
    {
     "data": {
      "image/png": "[encoded data removed]",
      "text/plain": [
       "<Figure size 432x288 with 1 Axes>"
      ]
     },
     "metadata": {
      "needs_background": "light"
     },
     "output_type": "display_data"
    }
   ],
   "source": [
    "#basic histogram of data\n",
    "import matplotlib.pyplot as plt\n",
    "\n",
    "# An \"interface\" to matplotlib.axes.Axes.hist() method\n",
    "n, bins, patches = plt.hist(x=df_xml['Total_Minor'], bins='auto', facecolor='blue', alpha=.5)\n",
    "\n",
    "plt.xlim([-5,200])\n",
    "plt.ylim([0,60])\n",
    "\n",
    "plt.show()\n",
    "\n"
   ]
  },
  {
   "cell_type": "code",
   "execution_count": 29,
   "metadata": {},
   "outputs": [
    {
     "data": {
      "image/png": "[encoded data removed]",
      "text/plain": [
       "<Figure size 432x288 with 1 Axes>"
      ]
     },
     "metadata": {
      "needs_background": "light"
     },
     "output_type": "display_data"
    }
   ],
   "source": [
    "n, bins, patches = plt.hist(x=df_xml['Total_Uninjured'], bins='auto', facecolor='blue', alpha=.5)\n",
    "\n",
    "plt.xlim([-5,200])\n",
    "plt.ylim([0,500])\n",
    "\n",
    "plt.show()"
   ]
  },
  {
   "cell_type": "code",
   "execution_count": 30,
   "metadata": {},
   "outputs": [],
   "source": [
    "#This begins the code for reading in all the json files\n",
    "#creating format to read all json files\n",
    "path_to_json = '/Users/awburns2/Documents/Github/data-scientist-exercise02/data/'\n",
    "json_files = [pos_json for pos_json in os.listdir(path_to_json) if pos_json.endswith('.json')]\n"
   ]
  },
  {
   "cell_type": "code",
   "execution_count": 31,
   "metadata": {},
   "outputs": [],
   "source": [
    "#create an empty df to read the json files into\n",
    "data_json = pd.DataFrame(columns=['EventId', 'Narrative', 'Probable_Cause'])"
   ]
  },
  {
   "cell_type": "code",
   "execution_count": 33,
   "metadata": {},
   "outputs": [],
   "source": [
    "#enumerating through json files\n",
    "for index, js in enumerate(json_files):\n",
    "    with open(os.path.join(path_to_json, js)) as json_file:\n",
    "        json_text = json.load(json_file)\n",
    "        for i, info in enumerate(json_text['data']):\n",
    "        \n",
    "        \n",
    "            #saving relevant information\n",
    "                \n",
    "            EventId = json_text['data'][i]['EventId']\n",
    "            Narrative = json_text['data'][i]['narrative']\n",
    "            Probable_Cause = json_text['data'][i]['probable_cause']\n",
    "            \n",
    "            count = data_json['EventId'].count()\n",
    "            \n",
    "            #pushing final indexes to df\n",
    "            data_json.loc[count] = [EventId, Narrative, Probable_Cause]"
   ]
  },
  {
   "cell_type": "code",
   "execution_count": 113,
   "metadata": {},
   "outputs": [],
   "source": [
    "#checking general structure of json file df\n",
    "#data_json.head()"
   ]
  },
  {
   "cell_type": "code",
   "execution_count": 114,
   "metadata": {},
   "outputs": [],
   "source": [
    "#creating final df with all merged info\n",
    "df_combf = pd.merge(data_json, df_xml, how='inner', on=['EventId','EventId'])"
   ]
  },
  {
   "cell_type": "code",
   "execution_count": 115,
   "metadata": {},
   "outputs": [],
   "source": [
    "#This starts code to analyze part of the text from probable cause\n",
    "#only using first 300 entries to balance with size of text file\n",
    "df_comb = df_combf[:200]"
   ]
  },
  {
   "cell_type": "code",
   "execution_count": 90,
   "metadata": {},
   "outputs": [],
   "source": [
    "#text analysis begins here"
   ]
  },
  {
   "cell_type": "code",
   "execution_count": 91,
   "metadata": {},
   "outputs": [],
   "source": [
    "#import stop words\n",
    "from nltk.corpus import stopwords\n",
    "stop_words=set(stopwords.words(\"english\"))\n",
    "\n",
    "#import packages to tokenize and stem words\n",
    "from nltk.tokenize import word_tokenize\n",
    "from nltk.stem import PorterStemmer"
   ]
  },
  {
   "cell_type": "code",
   "execution_count": 116,
   "metadata": {},
   "outputs": [],
   "source": [
    "#creating porter stemmer and empty list to store tokenized words\n",
    "stem=PorterStemmer()\n",
    "\n",
    "tokenized_cause=[]"
   ]
  },
  {
   "cell_type": "code",
   "execution_count": 117,
   "metadata": {},
   "outputs": [],
   "source": [
    "#Run through causes, tokenize and stem, creates a list with a \n",
    "#list of words for each cause\n",
    "for line in range(0,len(df_comb['Probable_Cause'])):\n",
    "    tokenized_word = word_tokenize(df_comb.iloc[line,2])\n",
    "    for word in range(0,len(tokenized_word)):\n",
    "        tokenized_word[word] = stem.stem(tokenized_word[word])\n",
    "    tokenized_cause.append(tokenized_word)"
   ]
  },
  {
   "cell_type": "code",
   "execution_count": 118,
   "metadata": {},
   "outputs": [],
   "source": [
    "#Filter out all the stop words\n",
    "filtered_cause=[]\n",
    "for i in range(0,len(df_comb['Probable_Cause'])):\n",
    "    filtered_cause_int=[]\n",
    "    for j in range(0,len(tokenized_cause[i])):\n",
    "        tokenized_cause[i][j]=tokenized_cause[i][j].lower()\n",
    "        if tokenized_cause[i][j] not in stop_words:\n",
    "            filtered_cause_int.append(tokenized_cause[i][j])\n",
    "    \n",
    "    filtered_cause.append(filtered_cause_int)"
   ]
  },
  {
   "cell_type": "code",
   "execution_count": 119,
   "metadata": {},
   "outputs": [],
   "source": [
    "#Join filtered causes back into individual causes in a list to visualize again\n",
    "causes_final_list = []\n",
    "\n",
    "for i in filtered_cause:\n",
    "    temp = \" \".join(i)\n",
    "    causes_final_list.append(temp)"
   ]
  },
  {
   "cell_type": "code",
   "execution_count": 120,
   "metadata": {},
   "outputs": [],
   "source": [
    "#use to see new filtered and stemmed causes\n",
    "#causes_final_list"
   ]
  },
  {
   "cell_type": "code",
   "execution_count": 136,
   "metadata": {},
   "outputs": [],
   "source": [
    "#read packages for feature extracting\n",
    "from sklearn.decomposition import LatentDirichletAllocation as LDA\n",
    "from sklearn.feature_extraction.text import CountVectorizer"
   ]
  },
  {
   "cell_type": "code",
   "execution_count": 137,
   "metadata": {},
   "outputs": [],
   "source": [
    "#Count raw term frequencies\n",
    "\n",
    "count = CountVectorizer()\n",
    "term_vec = count.fit_transform( causes_final_list )\n",
    "\n",
    "n_concepts = 5"
   ]
  },
  {
   "cell_type": "code",
   "execution_count": 138,
   "metadata": {},
   "outputs": [],
   "source": [
    "# Build a string list of topics\n",
    "\n",
    "col_nm = [ ]\n",
    "for i in range( 1, n_concepts + 1 ):\n",
    "    col_nm += [ f'Concept {i}' ]"
   ]
  },
  {
   "cell_type": "code",
   "execution_count": 139,
   "metadata": {},
   "outputs": [],
   "source": [
    "from sklearn.feature_extraction.text import TfidfVectorizer\n",
    "from sklearn.metrics.pairwise import cosine_similarity\n",
    "from sklearn.cluster import KMeans"
   ]
  },
  {
   "cell_type": "code",
   "execution_count": 140,
   "metadata": {},
   "outputs": [],
   "source": [
    "# Fit an LDA model to the term vectors, get cosine similarities\n",
    "\n",
    "lda_model = LDA( n_components=n_concepts, random_state = 1 )\n",
    "concept = lda_model.fit_transform( term_vec )\n",
    "X = cosine_similarity( concept )"
   ]
  },
  {
   "cell_type": "code",
   "execution_count": 141,
   "metadata": {},
   "outputs": [
    {
     "name": "stdout",
     "output_type": "stream",
     "text": [
      "Concept 0: glider command aircraft accid land dure wa factor failur pilot\n",
      "Concept 1: loss engin airplan power failur fuel factor result pilot land\n",
      "Concept 2: dure result flight maintain failur engin loss power control pilot\n",
      "Concept 3: accid improp crosswind dure failur factor inadequ control land pilot\n",
      "Concept 4: dure runway flight land condit maintain wa factor failur pilot\n",
      "\n"
     ]
    }
   ],
   "source": [
    "# Print top 10 terms for each topic\n",
    "\n",
    "feat = count.get_feature_names()\n",
    "topic_list = [ ]\n",
    "for i,topic in enumerate( lda_model.components_ ):\n",
    "    top_n = [ feat[ i ] for i in topic.argsort()[ -10: ] ]\n",
    "    top_feat = ' '.join( top_n )\n",
    "    topic_list.append( f\"topic_{'_'.join(top_n[ :3 ] ) }\" )\n",
    "\n",
    "    print( f'Concept {i}: {top_feat}' )\n",
    "print()"
   ]
  },
  {
   "cell_type": "code",
   "execution_count": null,
   "metadata": {},
   "outputs": [],
   "source": []
  }
 ],
 "metadata": {
  "kernelspec": {
   "display_name": "Python 3",
   "language": "python",
   "name": "python3"
  },
  "language_info": {
   "codemirror_mode": {
    "name": "ipython",
    "version": 3
   },
   "file_extension": ".py",
   "mimetype": "text/x-python",
   "name": "python",
   "nbconvert_exporter": "python",
   "pygments_lexer": "ipython3",
   "version": "3.7.4"
  }
 },
 "nbformat": 4,
 "nbformat_minor": 4
}
